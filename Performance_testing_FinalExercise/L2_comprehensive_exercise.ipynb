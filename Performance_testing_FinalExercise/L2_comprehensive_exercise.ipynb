{
 "cells": [
  {
   "cell_type": "markdown",
   "id": "f5f16ae4",
   "metadata": {},
   "source": [
    "# Model Details\n",
    "Creator: Carlotta Kopietz </p>\n",
    "The model is a logistic regression using the default hyperparameters in scikit-learn 0.24.1.\n",
    "\n",
    "# Intended Use\n",
    "This model should be used to predict differen variety of raisins (Kecminen and Besni) grown in Turkey. \n",
    "\n",
    "# Metrics\n",
    "The model was evaluated using F1 score. The value is 0.8831168831168832. \n",
    "\n",
    "# Data\n",
    "The data was obtained from kaggle (https://www.kaggle.com/datasets/muratkokludataset/raisin-dataset) \n",
    "\n",
    "# Bias\n",
    "According to sliced F1 score the model show a strong inbalance in F1 score in the data 'MajorAxisLength'. If the value is over average the F1 score is 0. Another inbalance in F1 score is for the area. If the area is over average the F1 score only reaches 0.3636363636363636. "
   ]
  },
  {
   "cell_type": "code",
   "execution_count": 1,
   "id": "received-carol",
   "metadata": {},
   "outputs": [],
   "source": [
    "import pandas as pd\n",
    "from sklearn.linear_model import LogisticRegression\n",
    "from sklearn.model_selection import train_test_split\n",
    "from sklearn.preprocessing import LabelBinarizer\n",
    "from sklearn.metrics import classification_report, f1_score"
   ]
  },
  {
   "cell_type": "code",
   "execution_count": 9,
   "id": "4edc7af5",
   "metadata": {},
   "outputs": [
    {
     "data": {
      "text/html": [
       "<div>\n",
       "<style scoped>\n",
       "    .dataframe tbody tr th:only-of-type {\n",
       "        vertical-align: middle;\n",
       "    }\n",
       "\n",
       "    .dataframe tbody tr th {\n",
       "        vertical-align: top;\n",
       "    }\n",
       "\n",
       "    .dataframe thead th {\n",
       "        text-align: right;\n",
       "    }\n",
       "</style>\n",
       "<table border=\"1\" class=\"dataframe\">\n",
       "  <thead>\n",
       "    <tr style=\"text-align: right;\">\n",
       "      <th></th>\n",
       "      <th>Area</th>\n",
       "      <th>MajorAxisLength</th>\n",
       "      <th>MinorAxisLength</th>\n",
       "      <th>Eccentricity</th>\n",
       "      <th>ConvexArea</th>\n",
       "      <th>Extent</th>\n",
       "      <th>Perimeter</th>\n",
       "      <th>Class</th>\n",
       "    </tr>\n",
       "  </thead>\n",
       "  <tbody>\n",
       "    <tr>\n",
       "      <th>0</th>\n",
       "      <td>87524</td>\n",
       "      <td>442.246011</td>\n",
       "      <td>253.291155</td>\n",
       "      <td>0.819738</td>\n",
       "      <td>90546</td>\n",
       "      <td>0.758651</td>\n",
       "      <td>1184.040</td>\n",
       "      <td>Kecimen</td>\n",
       "    </tr>\n",
       "    <tr>\n",
       "      <th>1</th>\n",
       "      <td>75166</td>\n",
       "      <td>406.690687</td>\n",
       "      <td>243.032436</td>\n",
       "      <td>0.801805</td>\n",
       "      <td>78789</td>\n",
       "      <td>0.684130</td>\n",
       "      <td>1121.786</td>\n",
       "      <td>Kecimen</td>\n",
       "    </tr>\n",
       "    <tr>\n",
       "      <th>2</th>\n",
       "      <td>90856</td>\n",
       "      <td>442.267048</td>\n",
       "      <td>266.328318</td>\n",
       "      <td>0.798354</td>\n",
       "      <td>93717</td>\n",
       "      <td>0.637613</td>\n",
       "      <td>1208.575</td>\n",
       "      <td>Kecimen</td>\n",
       "    </tr>\n",
       "    <tr>\n",
       "      <th>3</th>\n",
       "      <td>45928</td>\n",
       "      <td>286.540559</td>\n",
       "      <td>208.760042</td>\n",
       "      <td>0.684989</td>\n",
       "      <td>47336</td>\n",
       "      <td>0.699599</td>\n",
       "      <td>844.162</td>\n",
       "      <td>Kecimen</td>\n",
       "    </tr>\n",
       "    <tr>\n",
       "      <th>4</th>\n",
       "      <td>79408</td>\n",
       "      <td>352.190770</td>\n",
       "      <td>290.827533</td>\n",
       "      <td>0.564011</td>\n",
       "      <td>81463</td>\n",
       "      <td>0.792772</td>\n",
       "      <td>1073.251</td>\n",
       "      <td>Kecimen</td>\n",
       "    </tr>\n",
       "  </tbody>\n",
       "</table>\n",
       "</div>"
      ],
      "text/plain": [
       "    Area  MajorAxisLength  MinorAxisLength  Eccentricity  ConvexArea  \\\n",
       "0  87524       442.246011       253.291155      0.819738       90546   \n",
       "1  75166       406.690687       243.032436      0.801805       78789   \n",
       "2  90856       442.267048       266.328318      0.798354       93717   \n",
       "3  45928       286.540559       208.760042      0.684989       47336   \n",
       "4  79408       352.190770       290.827533      0.564011       81463   \n",
       "\n",
       "     Extent  Perimeter    Class  \n",
       "0  0.758651   1184.040  Kecimen  \n",
       "1  0.684130   1121.786  Kecimen  \n",
       "2  0.637613   1208.575  Kecimen  \n",
       "3  0.699599    844.162  Kecimen  \n",
       "4  0.792772   1073.251  Kecimen  "
      ]
     },
     "execution_count": 9,
     "metadata": {},
     "output_type": "execute_result"
    }
   ],
   "source": [
    "# Read Data base\n",
    "data = pd.read_csv(\"./data/Raisin_Dataset.csv\")\n",
    "data.head()"
   ]
  },
  {
   "cell_type": "code",
   "execution_count": 10,
   "id": "visible-mandate",
   "metadata": {},
   "outputs": [],
   "source": [
    "# Seperate labels\n",
    "y = data.pop(\"Class\")\n",
    "\n",
    "# Split the data into train and validation, stratifying on the target feature.\n",
    "X_train, X_val, y_train, y_val = train_test_split(data, y, stratify=y, random_state=23)"
   ]
  },
  {
   "cell_type": "code",
   "execution_count": 11,
   "id": "economic-dallas",
   "metadata": {},
   "outputs": [
    {
     "data": {
      "text/html": [
       "<div>\n",
       "<style scoped>\n",
       "    .dataframe tbody tr th:only-of-type {\n",
       "        vertical-align: middle;\n",
       "    }\n",
       "\n",
       "    .dataframe tbody tr th {\n",
       "        vertical-align: top;\n",
       "    }\n",
       "\n",
       "    .dataframe thead th {\n",
       "        text-align: right;\n",
       "    }\n",
       "</style>\n",
       "<table border=\"1\" class=\"dataframe\">\n",
       "  <thead>\n",
       "    <tr style=\"text-align: right;\">\n",
       "      <th></th>\n",
       "      <th>Area</th>\n",
       "      <th>MajorAxisLength</th>\n",
       "      <th>MinorAxisLength</th>\n",
       "      <th>Eccentricity</th>\n",
       "      <th>ConvexArea</th>\n",
       "      <th>Extent</th>\n",
       "      <th>Perimeter</th>\n",
       "    </tr>\n",
       "  </thead>\n",
       "  <tbody>\n",
       "    <tr>\n",
       "      <th>count</th>\n",
       "      <td>675.000000</td>\n",
       "      <td>675.000000</td>\n",
       "      <td>675.000000</td>\n",
       "      <td>675.000000</td>\n",
       "      <td>675.000000</td>\n",
       "      <td>675.000000</td>\n",
       "      <td>675.000000</td>\n",
       "    </tr>\n",
       "    <tr>\n",
       "      <th>mean</th>\n",
       "      <td>87210.494815</td>\n",
       "      <td>427.650555</td>\n",
       "      <td>254.414345</td>\n",
       "      <td>0.779895</td>\n",
       "      <td>90407.262222</td>\n",
       "      <td>0.701092</td>\n",
       "      <td>1159.625772</td>\n",
       "    </tr>\n",
       "    <tr>\n",
       "      <th>std</th>\n",
       "      <td>38388.571707</td>\n",
       "      <td>110.506268</td>\n",
       "      <td>49.752074</td>\n",
       "      <td>0.088938</td>\n",
       "      <td>39602.352484</td>\n",
       "      <td>0.050807</td>\n",
       "      <td>261.820857</td>\n",
       "    </tr>\n",
       "    <tr>\n",
       "      <th>min</th>\n",
       "      <td>25387.000000</td>\n",
       "      <td>225.629541</td>\n",
       "      <td>144.618672</td>\n",
       "      <td>0.348730</td>\n",
       "      <td>26139.000000</td>\n",
       "      <td>0.454189</td>\n",
       "      <td>619.074000</td>\n",
       "    </tr>\n",
       "    <tr>\n",
       "      <th>25%</th>\n",
       "      <td>59032.500000</td>\n",
       "      <td>343.732369</td>\n",
       "      <td>218.692197</td>\n",
       "      <td>0.740516</td>\n",
       "      <td>61466.500000</td>\n",
       "      <td>0.671134</td>\n",
       "      <td>964.835500</td>\n",
       "    </tr>\n",
       "    <tr>\n",
       "      <th>50%</th>\n",
       "      <td>79057.000000</td>\n",
       "      <td>405.936594</td>\n",
       "      <td>247.352044</td>\n",
       "      <td>0.797864</td>\n",
       "      <td>81779.000000</td>\n",
       "      <td>0.709949</td>\n",
       "      <td>1117.107000</td>\n",
       "    </tr>\n",
       "    <tr>\n",
       "      <th>75%</th>\n",
       "      <td>103790.500000</td>\n",
       "      <td>493.185891</td>\n",
       "      <td>280.180509</td>\n",
       "      <td>0.840452</td>\n",
       "      <td>108022.500000</td>\n",
       "      <td>0.735886</td>\n",
       "      <td>1302.416500</td>\n",
       "    </tr>\n",
       "    <tr>\n",
       "      <th>max</th>\n",
       "      <td>235047.000000</td>\n",
       "      <td>843.956653</td>\n",
       "      <td>492.275279</td>\n",
       "      <td>0.923770</td>\n",
       "      <td>239093.000000</td>\n",
       "      <td>0.830632</td>\n",
       "      <td>2253.557000</td>\n",
       "    </tr>\n",
       "  </tbody>\n",
       "</table>\n",
       "</div>"
      ],
      "text/plain": [
       "                Area  MajorAxisLength  MinorAxisLength  Eccentricity  \\\n",
       "count     675.000000       675.000000       675.000000    675.000000   \n",
       "mean    87210.494815       427.650555       254.414345      0.779895   \n",
       "std     38388.571707       110.506268        49.752074      0.088938   \n",
       "min     25387.000000       225.629541       144.618672      0.348730   \n",
       "25%     59032.500000       343.732369       218.692197      0.740516   \n",
       "50%     79057.000000       405.936594       247.352044      0.797864   \n",
       "75%    103790.500000       493.185891       280.180509      0.840452   \n",
       "max    235047.000000       843.956653       492.275279      0.923770   \n",
       "\n",
       "          ConvexArea      Extent    Perimeter  \n",
       "count     675.000000  675.000000   675.000000  \n",
       "mean    90407.262222    0.701092  1159.625772  \n",
       "std     39602.352484    0.050807   261.820857  \n",
       "min     26139.000000    0.454189   619.074000  \n",
       "25%     61466.500000    0.671134   964.835500  \n",
       "50%     81779.000000    0.709949  1117.107000  \n",
       "75%    108022.500000    0.735886  1302.416500  \n",
       "max    239093.000000    0.830632  2253.557000  "
      ]
     },
     "execution_count": 11,
     "metadata": {},
     "output_type": "execute_result"
    }
   ],
   "source": [
    "# Get a high level overview of the data. This will be useful for slicing.\n",
    "X_train.describe()"
   ]
  },
  {
   "cell_type": "code",
   "execution_count": 12,
   "id": "9fec587e",
   "metadata": {},
   "outputs": [
    {
     "data": {
      "text/html": [
       "<div>\n",
       "<style scoped>\n",
       "    .dataframe tbody tr th:only-of-type {\n",
       "        vertical-align: middle;\n",
       "    }\n",
       "\n",
       "    .dataframe tbody tr th {\n",
       "        vertical-align: top;\n",
       "    }\n",
       "\n",
       "    .dataframe thead th {\n",
       "        text-align: right;\n",
       "    }\n",
       "</style>\n",
       "<table border=\"1\" class=\"dataframe\">\n",
       "  <thead>\n",
       "    <tr style=\"text-align: right;\">\n",
       "      <th></th>\n",
       "      <th>Area</th>\n",
       "      <th>MajorAxisLength</th>\n",
       "      <th>MinorAxisLength</th>\n",
       "      <th>Eccentricity</th>\n",
       "      <th>ConvexArea</th>\n",
       "      <th>Extent</th>\n",
       "      <th>Perimeter</th>\n",
       "    </tr>\n",
       "  </thead>\n",
       "  <tbody>\n",
       "    <tr>\n",
       "      <th>248</th>\n",
       "      <td>62064</td>\n",
       "      <td>352.368670</td>\n",
       "      <td>227.864144</td>\n",
       "      <td>0.762775</td>\n",
       "      <td>64811</td>\n",
       "      <td>0.650566</td>\n",
       "      <td>1004.245</td>\n",
       "    </tr>\n",
       "    <tr>\n",
       "      <th>383</th>\n",
       "      <td>66797</td>\n",
       "      <td>358.198918</td>\n",
       "      <td>240.782694</td>\n",
       "      <td>0.740366</td>\n",
       "      <td>68732</td>\n",
       "      <td>0.697663</td>\n",
       "      <td>1006.375</td>\n",
       "    </tr>\n",
       "    <tr>\n",
       "      <th>149</th>\n",
       "      <td>66568</td>\n",
       "      <td>342.250361</td>\n",
       "      <td>249.550500</td>\n",
       "      <td>0.684358</td>\n",
       "      <td>68078</td>\n",
       "      <td>0.759917</td>\n",
       "      <td>993.455</td>\n",
       "    </tr>\n",
       "    <tr>\n",
       "      <th>595</th>\n",
       "      <td>80481</td>\n",
       "      <td>481.063953</td>\n",
       "      <td>217.561151</td>\n",
       "      <td>0.891891</td>\n",
       "      <td>85153</td>\n",
       "      <td>0.714974</td>\n",
       "      <td>1219.105</td>\n",
       "    </tr>\n",
       "    <tr>\n",
       "      <th>401</th>\n",
       "      <td>39368</td>\n",
       "      <td>296.655948</td>\n",
       "      <td>171.208165</td>\n",
       "      <td>0.816654</td>\n",
       "      <td>41361</td>\n",
       "      <td>0.619969</td>\n",
       "      <td>798.546</td>\n",
       "    </tr>\n",
       "  </tbody>\n",
       "</table>\n",
       "</div>"
      ],
      "text/plain": [
       "      Area  MajorAxisLength  MinorAxisLength  Eccentricity  ConvexArea  \\\n",
       "248  62064       352.368670       227.864144      0.762775       64811   \n",
       "383  66797       358.198918       240.782694      0.740366       68732   \n",
       "149  66568       342.250361       249.550500      0.684358       68078   \n",
       "595  80481       481.063953       217.561151      0.891891       85153   \n",
       "401  39368       296.655948       171.208165      0.816654       41361   \n",
       "\n",
       "       Extent  Perimeter  \n",
       "248  0.650566   1004.245  \n",
       "383  0.697663   1006.375  \n",
       "149  0.759917    993.455  \n",
       "595  0.714974   1219.105  \n",
       "401  0.619969    798.546  "
      ]
     },
     "execution_count": 12,
     "metadata": {},
     "output_type": "execute_result"
    }
   ],
   "source": [
    "X_train.head()"
   ]
  },
  {
   "cell_type": "code",
   "execution_count": 13,
   "id": "dutch-camping",
   "metadata": {},
   "outputs": [
    {
     "data": {
      "text/plain": [
       "LogisticRegression(max_iter=1000, random_state=23)"
      ]
     },
     "execution_count": 13,
     "metadata": {},
     "output_type": "execute_result"
    }
   ],
   "source": [
    "lr = LogisticRegression(max_iter=1000, random_state=23)\n",
    "lb = LabelBinarizer()\n",
    "\n",
    "# Binarize the target feature.\n",
    "y_train = lb.fit_transform(y_train)\n",
    "y_val = lb.transform(y_val)\n",
    "\n",
    "# Train Logistic Regression.\n",
    "lr.fit(X_train, y_train.ravel())"
   ]
  },
  {
   "cell_type": "code",
   "execution_count": 14,
   "id": "surrounded-relay",
   "metadata": {},
   "outputs": [
    {
     "name": "stdout",
     "output_type": "stream",
     "text": [
      "0.8831168831168832\n"
     ]
    }
   ],
   "source": [
    "# Calculate F1 score overall \n",
    "y_val_pred = lr.predict(X_val)\n",
    "f1_score_overall = f1_score(y_val, y_val_pred)\n",
    "print(f1_score_overall)"
   ]
  },
  {
   "cell_type": "code",
   "execution_count": 25,
   "id": "e8978169",
   "metadata": {},
   "outputs": [
    {
     "name": "stdout",
     "output_type": "stream",
     "text": [
      "For areas over average (89585.02666666667) the F1 score is 0.3636363636363636 and for lower average 0.9090909090909091.\n"
     ]
    }
   ],
   "source": [
    "# Calculate F1 score for 'Area' split by average\n",
    "area_mean = X_val['Area'].mean()\n",
    "X_val_area_high = X_val[X_val['Area']>area_mean]\n",
    "X_val_area_low = X_val[X_val['Area']<=area_mean]\n",
    "y_val_area_high = y_val[X_val['Area']>area_mean]\n",
    "y_val_area_low = y_val[X_val['Area']<=area_mean]\n",
    "f1_score_area_high = f1_score(y_val_area_high, lr.predict(X_val_area_high))\n",
    "f1_score_area_low = f1_score(y_val_area_low, lr.predict(X_val_area_low))\n",
    "print(f'For areas over average ({area_mean}) the F1 score is {f1_score_area_high} and for lower average {f1_score_area_low}.')"
   ]
  },
  {
   "cell_type": "code",
   "execution_count": 26,
   "id": "fb65c43f",
   "metadata": {},
   "outputs": [
    {
     "name": "stdout",
     "output_type": "stream",
     "text": [
      "For areas over average (440.76813653333335) the F1 score is 0.0 and for lower average 0.9066666666666666.\n"
     ]
    }
   ],
   "source": [
    "# Calculate F1 score for 'MajorAxisLength' split by average\n",
    "major_mean = X_val['MajorAxisLength'].mean()\n",
    "X_val_major_high = X_val[X_val['MajorAxisLength']>major_mean]\n",
    "X_val_major_low = X_val[X_val['MajorAxisLength']<=major_mean]\n",
    "y_val_major_high = y_val[X_val['MajorAxisLength']>major_mean]\n",
    "y_val_major_low = y_val[X_val['MajorAxisLength']<=major_mean]\n",
    "f1_score_major_high = f1_score(y_val_major_high, lr.predict(X_val_major_high))\n",
    "f1_score_major_low = f1_score(y_val_major_low, lr.predict(X_val_major_low))\n",
    "print(f'For major axis length over average ({major_mean}) the F1 score is {f1_score_major_high} and for lower average {f1_score_major_low}.')"
   ]
  },
  {
   "cell_type": "code",
   "execution_count": 27,
   "id": "668a3fa1",
   "metadata": {
    "scrolled": true
   },
   "outputs": [
    {
     "name": "stdout",
     "output_type": "stream",
     "text": [
      "For major axis length over average (0.7864845224844446) the F1 score is 0.8641975308641975 and for lower average 0.8933333333333333.\n"
     ]
    }
   ],
   "source": [
    "# Calculate F1 score for 'MajorAxisLength' split by average\n",
    "eccentricity_mean = X_val['Eccentricity'].mean()\n",
    "X_val_eccentricity_high = X_val[X_val['Eccentricity']>eccentricity_mean]\n",
    "X_val_eccentricity_low = X_val[X_val['Eccentricity']<=eccentricity_mean]\n",
    "y_val_eccentricity_high = y_val[X_val['Eccentricity']>eccentricity_mean]\n",
    "y_val_eccentricity_low = y_val[X_val['Eccentricity']<=eccentricity_mean]\n",
    "f1_score_eccentricity_high = f1_score(y_val_eccentricity_high, lr.predict(X_val_eccentricity_high))\n",
    "f1_score_eccentricity_low = f1_score(y_val_eccentricity_low, lr.predict(X_val_eccentricity_low))\n",
    "print(f'For major axis length over average ({eccentricity_mean}) the F1 score is {f1_score_eccentricity_high} and for lower average {f1_score_eccentricity_low}.')"
   ]
  },
  {
   "cell_type": "code",
   "execution_count": null,
   "id": "8c49f680",
   "metadata": {},
   "outputs": [],
   "source": []
  }
 ],
 "metadata": {
  "kernelspec": {
   "display_name": "Python 3 (ipykernel)",
   "language": "python",
   "name": "python3"
  },
  "language_info": {
   "codemirror_mode": {
    "name": "ipython",
    "version": 3
   },
   "file_extension": ".py",
   "mimetype": "text/x-python",
   "name": "python",
   "nbconvert_exporter": "python",
   "pygments_lexer": "ipython3",
   "version": "3.8.15"
  }
 },
 "nbformat": 4,
 "nbformat_minor": 5
}
